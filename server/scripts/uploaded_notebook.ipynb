{
 "cells": [
  {
   "cell_type": "code",
   "execution_count": null,
   "metadata": {},
   "outputs": [],
   "source": [
    "# spliting the authorid from the link\n",
    "\n",
    "author_tweetid = pd.read_csv(r'Input\\authors_tweeters_2024_02.csv')\n",
    "print(f'The shape of the input data: {author_tweetid.shape}')\n",
    "\n",
    "\n",
    "author_tweetid['author_id_extracted'] = author_tweetid['author_id'].str.extract(r'https://openalex.org/(.+)')\n",
    "author_tweetid['tweeter_id']= author_tweetid['tweeter_id'].astype(str)\n",
    "print(f'The shape of the output data: {author_tweetid.shape}')\n",
    "author_tweetid.to_csv(\"authors_tweeters_updated_file.csv\", index=False)"
   ]
  },
  {
   "cell_type": "code",
   "execution_count": null,
   "metadata": {},
   "outputs": [],
   "source": [
    "# Merging \n",
    "import pandas as pd\n",
    "\n",
    "# Load the Excel file into a DataFrame\n",
    "left_file_path = r'merged_file.csv' # Replace with your actual file path\n",
    "left_df = pd.read_csv(left_file_path, dtype= str)\n",
    "# left_df = left_df.dropna(subset=['Author ID1'])\n",
    "# left_df = left_df.drop_duplicates(subset=['Author ID1'])\n",
    "# left_df['tweeter_id'] = left_df['tweeter_id'].astype(str)\n",
    "print(f'The shape of left dataframe: {left_df.shape}')\n",
    "\n",
    "right_filepath = r'Output_merged_full.xlsx'\n",
    "right_df = pd.read_excel(right_filepath, dtype= str)\n",
    "# right_df['User ID'] = right_df['User ID'].astype(str)\n",
    "\n",
    "left_df_merged = left_df\n",
    "left_df_merged =  left_df_merged.merge(right_df, left_on=\"tweeter_id\", right_on=\"User ID\", how=\"left\",suffixes=('', '_right'), indicator=True)\n",
    "left_df_merged['Is_Merged'] = left_df_merged['_merge'] == 'both'\n",
    "\n",
    "\n",
    "columns_to_drop = [col for col in left_df_merged.columns if col.endswith('_right')]\n",
    "left_df_merged = left_df_merged.drop(columns=columns_to_drop)\n",
    "left_df_merged['tweeter_id'] = left_df_merged['tweeter_id'].astype(str)\n",
    "left_df_merged['User ID']= left_df_merged['User ID'].astype(str)\n",
    "left_df_merged.to_excel(r'Final_Merged.xlsx', index=False)\n",
    "print(f'The shape of the output file: {left_df_merged.shape}')"
   ]
  }
 ],
 "metadata": {
  "kernelspec": {
   "display_name": "Python 3",
   "language": "python",
   "name": "python3"
  },
  "language_info": {
   "name": "python",
   "version": "3.12.1"
  }
 },
 "nbformat": 4,
 "nbformat_minor": 2
}
